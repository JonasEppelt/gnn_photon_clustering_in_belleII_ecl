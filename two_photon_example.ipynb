{
 "cells": [
  {
   "cell_type": "markdown",
   "metadata": {},
   "source": [
    "# Photon Reconstructin in the Belle II Calorimeter Using Graph Neural Networks\n",
    "Code and examples to the paper on reconstructing Photons in the Belle II Calorimeter using Graph Neural Networks"
   ]
  },
  {
   "cell_type": "markdown",
   "metadata": {},
   "source": [
    "### Loading model\n",
    "Loading the model hyperparameters from a yaml config and initializing the model."
   ]
  },
  {
   "cell_type": "code",
   "execution_count": null,
   "metadata": {},
   "outputs": [],
   "source": [
    "import yaml\n",
    "from torch.cuda import is_available\n",
    "from model import GNNmodel\n",
    "\n",
    "with open(\"configs/two_photon_train_config.yml\") as cfg_path:\n",
    "    config = yaml.safe_load(cfg_path)\n",
    "config[\"device\"] = \"cuda\" if is_available() else \"cpu\"\n",
    "\n",
    "model = GNNmodel(\n",
    "    features=config[\"features\"],\n",
    "    n_photons=config[\"n_photons\"],\n",
    "    dense_layer_dim=config[\"dense_layer_dim\"],\n",
    "    feature_space_dim=config[\"feature_space_dim\"],\n",
    "    spatial_information_dim=config[\"spatial_information_dim\"],\n",
    "    k=config[\"k\"],\n",
    "    n_gravblocks=config[\"n_gravblocks\"],\n",
    "    batch_norm_momentum=config[\"batch_norm_momentum\"],\n",
    ").to(config[\"device\"])"
   ]
  },
  {
   "cell_type": "markdown",
   "metadata": {},
   "source": [
    "### Loading the dataset"
   ]
  },
  {
   "cell_type": "code",
   "execution_count": null,
   "metadata": {},
   "outputs": [],
   "source": [
    "\n",
    "from datasets import ECLDataset\n",
    "from train_loop import get_datasets\n",
    "from torch_geometric.data import DataLoader\n",
    "\n",
    "full_dataset = ECLDataset(\n",
    "    root = \"./data/\",\n",
    "    raw_filename=\"two_photon_data.parquet\",\n",
    "    processed_filename=\"two_photon_data_processed.pt\",\n",
    "    n_photons=config[\"n_photons\"],\n",
    "    n_events=config[\"n_events\"],\n",
    "    features=config[\"features\"],\n",
    ")\n",
    "\n",
    "train_dataset, val_dataset = get_datasets(config[\"val_ratio\"], full_dataset)\n",
    "\n",
    "trainloader = DataLoader(\n",
    "    train_dataset,\n",
    "    batch_size=config[\"batch_size\"],\n",
    "    shuffle=True,\n",
    "    num_workers=config[\"num_workers\"],\n",
    "    pin_memory=True,\n",
    ")\n",
    "valloader = DataLoader(\n",
    "    val_dataset,\n",
    "    batch_size=config[\"val_batch_size\"],\n",
    "    shuffle=False,\n",
    "    num_workers=config[\"num_workers\"],\n",
    "    pin_memory=True,\n",
    ")"
   ]
  },
  {
   "cell_type": "markdown",
   "metadata": {},
   "source": [
    "### Setting up training"
   ]
  },
  {
   "cell_type": "code",
   "execution_count": null,
   "metadata": {},
   "outputs": [],
   "source": [
    "from torch.optim import Adam\n",
    "from torch.optim.lr_scheduler import ReduceLROnPlateau\n",
    "\n",
    "optimizer = Adam(model.parameters(), lr=config[\"lr\"])\n",
    "lr_scheduler = ReduceLROnPlateau(\n",
    "    optimizer, patience=5, factor = 0.25, \n",
    ")\n"
   ]
  },
  {
   "cell_type": "markdown",
   "metadata": {},
   "source": [
    "### Running the training"
   ]
  },
  {
   "cell_type": "code",
   "execution_count": null,
   "metadata": {},
   "outputs": [],
   "source": [
    "from train_loop import train\n",
    "from torch import save\n",
    "\n",
    "model, last_epoch = train(\n",
    "    config=config,\n",
    "    model=model,\n",
    "    optimizer=optimizer,\n",
    "    lr_scheduler=lr_scheduler,\n",
    "    trainloader=trainloader,\n",
    "    valloader=valloader,\n",
    ")"
   ]
  },
  {
   "cell_type": "markdown",
   "metadata": {},
   "source": [
    "### Display Resolution\n",
    "\n",
    "Resolution is defined as (pred - true) / true"
   ]
  },
  {
   "cell_type": "code",
   "execution_count": null,
   "metadata": {},
   "outputs": [],
   "source": [
    "from utils import resolution_plot\n",
    "import matplotlib.pyplot as plt\n",
    "\n",
    "batch = next(iter(valloader))\n",
    "batch = batch.to(config[\"device\"])\n",
    "pred = model(batch).cpu().detach().numpy()\n",
    "true = batch.y.cpu().numpy()\n",
    "resolution_plot(true[:,0], pred[:,0], label=\"gravnet\")\n",
    "plt.title(\"Resolution of photon 1\")\n",
    "plt.show()"
   ]
  },
  {
   "cell_type": "code",
   "execution_count": null,
   "metadata": {},
   "outputs": [],
   "source": [
    "resolution_plot(true[:,1], pred[:,1], label=\"gravnet\")\n",
    "plt.title(\"Resolution of photon 2\")\n",
    "plt.show()"
   ]
  }
 ],
 "metadata": {
  "kernelspec": {
   "display_name": "Python 3 (ipykernel)",
   "language": "python",
   "name": "python3"
  },
  "language_info": {
   "codemirror_mode": {
    "name": "ipython",
    "version": 3
   },
   "file_extension": ".py",
   "mimetype": "text/x-python",
   "name": "python",
   "nbconvert_exporter": "python",
   "pygments_lexer": "ipython3",
   "version": "3.9.13"
  },
  "orig_nbformat": 4
 },
 "nbformat": 4,
 "nbformat_minor": 2
}
